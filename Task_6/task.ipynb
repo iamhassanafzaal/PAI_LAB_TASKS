{
 "cells": [
  {
   "cell_type": "code",
   "execution_count": null,
   "id": "8a022d05",
   "metadata": {},
   "outputs": [],
   "source": [
    "import numpy as np\n",
    "import cv2 \n",
    "import face_recognition as fr\n",
    "import matplotlib.pyplot as plt\n",
    "import cv2"
   ]
  },
  {
   "cell_type": "code",
   "execution_count": null,
   "id": "92322c01",
   "metadata": {},
   "outputs": [],
   "source": [
    "def analyze_face(image_path):\n",
    "    \n",
    "    image_bgr = cv2.imread(image_path)\n",
    "    if image_bgr is None:\n",
    "        print(\"Error: Image not found.\")\n",
    "        return\n",
    "    \n",
    "    image_rgb = cv2.cvtColor(image_bgr, cv2.COLOR_BGR2RGB)\n",
    "\n",
    "   \n",
    "    landmarks_list = fr.face_landmarks(image_rgb)\n",
    "    if not landmarks_list:\n",
    "        print(\"No face detected :D\")\n",
    "        return\n",
    "\n",
    "    landmarks = landmarks_list[0]\n",
    "\n",
    "    \n",
    "    left_eye = np.array(landmarks['left_eye'])\n",
    "    right_eye = np.array(landmarks['right_eye'])\n",
    "    nose_bridge = np.array(landmarks['nose_bridge'])\n",
    "    chin = np.array(landmarks['chin'])\n",
    "\n",
    "    left_ear = np.array([chin[0], chin[1], chin[2]])\n",
    "    right_ear = np.array([chin[-1], chin[-2], chin[-3]])\n",
    "\n",
    "    \n",
    "    eye_width = np.linalg.norm(left_eye[0] - left_eye[3])\n",
    "    nose_length = np.linalg.norm(nose_bridge[0] - nose_bridge[-1])\n",
    "    jaw_width = np.linalg.norm(chin[0] - chin[-1])\n",
    "    left_ear_width = np.linalg.norm(left_ear[0] - left_ear[-1])\n",
    "    right_ear_width = np.linalg.norm(right_ear[0] - right_ear[-1])\n",
    "\n",
    "    \n",
    "    if abs(left_ear_width - right_ear_width) < 5 and eye_width > nose_length * 0.5:\n",
    "        trust_label = \"Trustworthy\"\n",
    "    else:\n",
    "        trust_label = \"Untrustworthy\"\n",
    "\n",
    "   \n",
    "    for feature_points in landmarks.values():\n",
    "        for point in feature_points:\n",
    "            cv2.circle(image_rgb, tuple(point), 4, (0, 255, 0), -1)\n",
    "\n",
    "    \n",
    "    plt.figure(figsize=(8, 6))\n",
    "    plt.imshow(image_rgb)\n",
    "    plt.title(\"Detected Face with Landmarks\")\n",
    "    plt.axis(\"off\")\n",
    "    plt.show()\n",
    "\n",
    "    \n",
    "    print(f\"Person is: {trust_label}\")\n",
    "    print(f\"Nose Length: {nose_length:.2f} pixels\")\n",
    "    print(f\"Jaw Width: {jaw_width:.2f} pixels\")\n",
    "    print(f\"Eye Width: {eye_width:.2f} pixels\")\n",
    "    print(f\"Left Ear Width: {left_ear_width:.2f} pixels\")\n",
    "    print(f\"Right Ear Width: {right_ear_width:.2f} pixels\")"
   ]
  }
 ],
 "metadata": {
  "kernelspec": {
   "display_name": "Python 3",
   "language": "python",
   "name": "python3"
  },
  "language_info": {
   "codemirror_mode": {
    "name": "ipython",
    "version": 3
   },
   "file_extension": ".py",
   "mimetype": "text/x-python",
   "name": "python",
   "nbconvert_exporter": "python",
   "pygments_lexer": "ipython3",
   "version": "3.11.9"
  }
 },
 "nbformat": 4,
 "nbformat_minor": 5
}
