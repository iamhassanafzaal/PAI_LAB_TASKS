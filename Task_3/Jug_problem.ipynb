{
 "cells": [
  {
   "cell_type": "code",
   "execution_count": 3,
   "id": "5ca66118-3fce-41ec-a638-410180e6cea1",
   "metadata": {},
   "outputs": [
    {
     "name": "stdin",
     "output_type": "stream",
     "text": [
      "Enter capacity of first jug:  4\n",
      "Enter capacity of second jug:  5\n",
      "Enter target amount:  2\n"
     ]
    },
    {
     "name": "stdout",
     "output_type": "stream",
     "text": [
      "Water Jug Problem Rules:\n",
      "1. Fill the first jug completely.\n",
      "2. Fill the second jug completely.\n",
      "3. Empty the first jug completely.\n",
      "4. Empty the second jug completely.\n",
      "5. Pour water from the first jug into the second until the second is full or the first is empty.\n",
      "6. Pour water from the second jug into the first until the first is full or the second is empty.\n",
      "\n",
      "Solution Path:\n",
      "[(0, 0), (0, 5), (4, 1), (4, 0), (0, 4), (4, 4), (3, 5), (3, 0), (0, 3), (4, 3), (2, 5)]\n"
     ]
    }
   ],
   "source": [
    "def is_valid(state, max_capacity):\n",
    "    return 0 <= state[0] <= max_capacity[0] and 0 <= state[1] <= max_capacity[1]\n",
    "\n",
    "def water_jug_dfs(jug_a, jug_b, goal):\n",
    "    stack = [(0, 0)]  \n",
    "    visited = set()\n",
    "    parent_map = {}\n",
    "    found_solution = False\n",
    "    \n",
    "    while stack:\n",
    "        current_state = stack.pop()\n",
    "        if current_state in visited:\n",
    "            continue\n",
    "        \n",
    "        visited.add(current_state)\n",
    "        \n",
    "        if current_state[0] == goal or current_state[1] == goal:\n",
    "            found_solution = True\n",
    "            break\n",
    "        \n",
    "        a, b = current_state\n",
    "        \n",
    "        possible_moves = [\n",
    "            (jug_a, b), \n",
    "            (a, jug_b),  \n",
    "            (0, b),  \n",
    "            (a, 0), \n",
    "            (a - min(a, jug_b - b), b + min(a, jug_b - b)), \n",
    "            (a + min(b, jug_a - a), b - min(b, jug_a - a))  \n",
    "        ]\n",
    "        \n",
    "        for move in possible_moves:\n",
    "            if move not in visited and is_valid(move, (jug_a, jug_b)):\n",
    "                stack.append(move)\n",
    "                parent_map[move] = current_state\n",
    "    \n",
    "    if not found_solution:\n",
    "        return \"No solution found.\"\n",
    "    \n",
    "    # Backtrack to find the path\n",
    "    path = []\n",
    "    while current_state:\n",
    "        path.append(current_state)\n",
    "        current_state = parent_map.get(current_state)\n",
    "    path.reverse()\n",
    "    \n",
    "    return path\n",
    "\n",
    "def display_rules():\n",
    "    rules_list = [\n",
    "        \"1. Fill the first jug completely.\",\n",
    "        \"2. Fill the second jug completely.\",\n",
    "        \"3. Empty the first jug completely.\",\n",
    "        \"4. Empty the second jug completely.\",\n",
    "        \"5. Pour water from the first jug into the second until the second is full or the first is empty.\",\n",
    "        \"6. Pour water from the second jug into the first until the first is full or the second is empty.\"\n",
    "    ]\n",
    "    \n",
    "    print(\"Water Jug Problem Rules:\")\n",
    "    for rule in rules_list:\n",
    "        print(rule)\n",
    "        \n",
    "if __name__ == \"__main__\":\n",
    "    capacity_a = int(input(\"Enter capacity of first jug: \"))\n",
    "    capacity_b = int(input(\"Enter capacity of second jug: \"))\n",
    "    target_value = int(input(\"Enter target amount: \"))\n",
    "    \n",
    "    display_rules()\n",
    "    result = water_jug_dfs(capacity_a, capacity_b, target_value)\n",
    "    print(\"\\nSolution Path:\")\n",
    "    print(result)\n"
   ]
  },
  {
   "cell_type": "code",
   "execution_count": null,
   "id": "9c826c50-1b5c-456a-80ea-b6b831b96e33",
   "metadata": {},
   "outputs": [],
   "source": []
  }
 ],
 "metadata": {
  "kernelspec": {
   "display_name": "Python 3 (ipykernel)",
   "language": "python",
   "name": "python3"
  },
  "language_info": {
   "codemirror_mode": {
    "name": "ipython",
    "version": 3
   },
   "file_extension": ".py",
   "mimetype": "text/x-python",
   "name": "python",
   "nbconvert_exporter": "python",
   "pygments_lexer": "ipython3",
   "version": "3.12.7"
  }
 },
 "nbformat": 4,
 "nbformat_minor": 5
}
